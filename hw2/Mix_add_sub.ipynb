{
 "cells": [
  {
   "cell_type": "code",
   "execution_count": 2,
   "metadata": {},
   "outputs": [
    {
     "name": "stderr",
     "output_type": "stream",
     "text": [
      "Using TensorFlow backend.\n"
     ]
    }
   ],
   "source": [
    "from keras.models import Sequential\n",
    "from keras import layers\n",
    "import numpy as np\n",
    "from six.moves import range\n",
    "import csv\n",
    "import matplotlib.pyplot as plt"
   ]
  },
  {
   "cell_type": "markdown",
   "metadata": {},
   "source": [
    "# Parameters Config"
   ]
  },
  {
   "cell_type": "code",
   "execution_count": 18,
   "metadata": {},
   "outputs": [],
   "source": [
    "class colors:\n",
    "    ok = '\\033[92m'\n",
    "    fail = '\\033[91m'\n",
    "    close = '\\033[0m'"
   ]
  },
  {
   "cell_type": "code",
   "execution_count": 19,
   "metadata": {},
   "outputs": [],
   "source": [
    "TRAINING_SIZE = 80000\n",
    "DIGITS = 3\n",
    "REVERSE = False\n",
    "MAXLEN = DIGITS + 1 + DIGITS\n",
    "chars = '0123456789+- '\n",
    "RNN = layers.LSTM\n",
    "HIDDEN_SIZE = 128\n",
    "BATCH_SIZE = 128\n",
    "LAYERS = 1"
   ]
  },
  {
   "cell_type": "code",
   "execution_count": 20,
   "metadata": {},
   "outputs": [],
   "source": [
    "class CharacterTable(object):\n",
    "    def __init__(self, chars):\n",
    "        self.chars = sorted(set(chars)) # [' ', '-', '0', '1', '2', '3', '4', '5', '6', '7', '8', '9']\n",
    "        self.char_indices = dict((c, i) for i, c in enumerate(self.chars)) # {' ': 0, '-': 1, '0': 2, ... , '9': 11}\n",
    "        self.indices_char = dict((i, c) for i, c in enumerate(self.chars)) # {0: ' ', 1: '-', 2: '0',..., 11: '9'}\n",
    "    \n",
    "    def encode(self, C, num_rows):\n",
    "        x = np.zeros((num_rows, len(self.chars)))\n",
    "        for i, c in enumerate(C):\n",
    "            x[i, self.char_indices[c]] = 1\n",
    "        return x\n",
    "    \n",
    "    def decode(self, x, calc_argmax=True):\n",
    "        if calc_argmax:\n",
    "            x = x.argmax(axis=-1)\n",
    "        return \"\".join(self.indices_char[i] for i in x)"
   ]
  },
  {
   "cell_type": "code",
   "execution_count": 21,
   "metadata": {},
   "outputs": [],
   "source": [
    "ctable = CharacterTable(chars)"
   ]
  },
  {
   "cell_type": "markdown",
   "metadata": {},
   "source": [
    "# Data Generation"
   ]
  },
  {
   "cell_type": "code",
   "execution_count": 22,
   "metadata": {},
   "outputs": [
    {
     "name": "stdout",
     "output_type": "stream",
     "text": [
      "Generating data...\n",
      "Total addition questions: 80000\n"
     ]
    }
   ],
   "source": [
    "questions = []\n",
    "expected = []\n",
    "seen = set()\n",
    "print('Generating data...')\n",
    "while len(questions) < TRAINING_SIZE:\n",
    "    # f函數：隨機產生一個1位數到3位數之間的整數（DIGIT==3）\n",
    "    f = lambda: int(''.join(np.random.choice(list('0123456789')) for i in range(np.random.randint(1, DIGITS + 1))))\n",
    "    a, b = f(), f()\n",
    "    key = tuple(sorted((a, b), reverse=True)) # 將a, b由大到小排序並轉成tuple\n",
    "    a, b = key[0], key[1]\n",
    "    if key in seen:\n",
    "        continue\n",
    "    seen.add(key)\n",
    "    op = np.random.randint(0,2)\n",
    "    if op == 0:\n",
    "        q = '{}+{}'.format(a, b)\n",
    "        ans = str(a + b)\n",
    "    elif op == 1:\n",
    "        q = '{}-{}'.format(a, b)\n",
    "        ans = str(a - b)\n",
    "    \n",
    "    query = q + ' ' * (MAXLEN - len(q))\n",
    "    ans += ' ' * (DIGITS + 1 - len(ans))\n",
    "    if REVERSE:\n",
    "        query = query[::-1]\n",
    "    questions.append(query)\n",
    "    expected.append(ans)\n",
    "print('Total addition questions:', len(questions))"
   ]
  },
  {
   "cell_type": "code",
   "execution_count": 23,
   "metadata": {
    "scrolled": true
   },
   "outputs": [
    {
     "name": "stdout",
     "output_type": "stream",
     "text": [
      "['17+6   ', '9-5    ', '678-37 ', '761-4  ', '8-8    '] ['23  ', '4   ', '641 ', '757 ', '0   ']\n"
     ]
    }
   ],
   "source": [
    "print(questions[:5], expected[:5])"
   ]
  },
  {
   "cell_type": "markdown",
   "metadata": {},
   "source": [
    "# Processing"
   ]
  },
  {
   "cell_type": "code",
   "execution_count": 24,
   "metadata": {},
   "outputs": [
    {
     "name": "stdout",
     "output_type": "stream",
     "text": [
      "Vectorization...\n"
     ]
    }
   ],
   "source": [
    "print('Vectorization...')\n",
    "# x總共有80000筆資料，每筆資料shape是7x13，7代表問題長度為7，並且每個位數的值有12種可能\n",
    "x = np.zeros((len(questions), MAXLEN, len(chars)), dtype=np.bool) # x.shape = (80000, 7, 13)\n",
    "y = np.zeros((len(expected), DIGITS + 1, len(chars)), dtype=np.bool) # y.shape = (80000, 3, 13)\n",
    "\n",
    "# 將問題與解答編碼成一個一個的二維陣列\n",
    "for i, sentence in enumerate(questions):\n",
    "    x[i] = ctable.encode(sentence, MAXLEN)\n",
    "for i, sentence in enumerate(expected):\n",
    "    y[i] = ctable.encode(sentence, DIGITS + 1)"
   ]
  },
  {
   "cell_type": "code",
   "execution_count": 25,
   "metadata": {
    "scrolled": true
   },
   "outputs": [
    {
     "name": "stdout",
     "output_type": "stream",
     "text": [
      "Training Data:\n",
      "(54000, 7, 13)\n",
      "(54000, 4, 13)\n",
      "Validation Data:\n",
      "(6000, 7, 13)\n",
      "(6000, 4, 13)\n",
      "Testing Data:\n",
      "(20000, 7, 13)\n",
      "(20000, 4, 13)\n"
     ]
    }
   ],
   "source": [
    "# 將80000筆資料打亂順序\n",
    "indices = np.arange(len(y))\n",
    "np.random.shuffle(indices)\n",
    "x = x[indices]\n",
    "y = y[indices]\n",
    "\n",
    "# train_test_split\n",
    "train_x = x[:60000]\n",
    "train_y = y[:60000]\n",
    "test_x = x[60000:]\n",
    "test_y = y[60000:]\n",
    "\n",
    "split_at = len(train_x) - len(train_x) // 10\n",
    "(x_train, x_val) = train_x[:split_at], train_x[split_at:]\n",
    "(y_train, y_val) = train_y[:split_at], train_y[split_at:]\n",
    "\n",
    "print('Training Data:')\n",
    "print(x_train.shape)\n",
    "print(y_train.shape)\n",
    "\n",
    "print('Validation Data:')\n",
    "print(x_val.shape)\n",
    "print(y_val.shape)\n",
    "\n",
    "print('Testing Data:')\n",
    "print(test_x.shape)\n",
    "print(test_y.shape)"
   ]
  },
  {
   "cell_type": "markdown",
   "metadata": {},
   "source": [
    "# Build Model\n",
    "\n",
    "[keras中TimeDistributed和RepeatVector的解释](https://blog.csdn.net/ChaoFeiLi/article/details/89323078)"
   ]
  },
  {
   "cell_type": "code",
   "execution_count": 26,
   "metadata": {},
   "outputs": [],
   "source": [
    "def buildOneToOneModel(shape):\n",
    "    model = Sequential()\n",
    "    model.add(layers.LSTM(128, input_shape=(shape[1], shape[2])))\n",
    "    model.add(layers.RepeatVector(3))\n",
    "    model.add(layers.LSTM(64, return_sequences=True))\n",
    "    model.add(layers.LSTM(64, return_sequences=True))\n",
    "    model.add(layers.TimeDistributed(layers.Dense(len(chars), activation='softmax')))\n",
    "    model.compile(loss=\"mse\", optimizer=\"adam\", metrics=['accuracy'])\n",
    "    model.summary()\n",
    "    return model"
   ]
  },
  {
   "cell_type": "code",
   "execution_count": 27,
   "metadata": {
    "scrolled": true
   },
   "outputs": [
    {
     "name": "stdout",
     "output_type": "stream",
     "text": [
      "Build model...\n",
      "WARNING:tensorflow:From /home/shihyu/.local/lib/python3.6/site-packages/tensorflow/python/framework/op_def_library.py:263: colocate_with (from tensorflow.python.framework.ops) is deprecated and will be removed in a future version.\n",
      "Instructions for updating:\n",
      "Colocations handled automatically by placer.\n",
      "_________________________________________________________________\n",
      "Layer (type)                 Output Shape              Param #   \n",
      "=================================================================\n",
      "lstm_1 (LSTM)                (None, 128)               72704     \n",
      "_________________________________________________________________\n",
      "repeat_vector_1 (RepeatVecto (None, 3, 128)            0         \n",
      "_________________________________________________________________\n",
      "lstm_2 (LSTM)                (None, 3, 64)             49408     \n",
      "_________________________________________________________________\n",
      "lstm_3 (LSTM)                (None, 3, 64)             33024     \n",
      "_________________________________________________________________\n",
      "time_distributed_1 (TimeDist (None, 3, 13)             845       \n",
      "=================================================================\n",
      "Total params: 155,981\n",
      "Trainable params: 155,981\n",
      "Non-trainable params: 0\n",
      "_________________________________________________________________\n"
     ]
    }
   ],
   "source": [
    "print('Build model...')\n",
    "model = buildOneToOneModel(x_train.shape)\n",
    "#model.fit(x_train, y_train, epochs=10, batch_size=128, validation_data=(x_val, y_val))"
   ]
  },
  {
   "cell_type": "markdown",
   "metadata": {},
   "source": [
    "# Training"
   ]
  },
  {
   "cell_type": "code",
   "execution_count": 28,
   "metadata": {},
   "outputs": [],
   "source": [
    "decode_y = []\n",
    "for i in range(20000):\n",
    "    decode_y.append(ctable.decode(test_y[i]))"
   ]
  },
  {
   "cell_type": "code",
   "execution_count": null,
   "metadata": {},
   "outputs": [],
   "source": [
    "epoch_prediction = []\n",
    "def first_ten():\n",
    "    for i in range(10):\n",
    "        ind = np.random.randint(0, len(x_val))\n",
    "        rowx, rowy = x_val[np.array([ind])], y_val[np.array([ind])]\n",
    "        preds = model.predict_classes(rowx, verbose=0)\n",
    "        q = ctable.decode(rowx[0])\n",
    "        correct = ctable.decode(rowy[0])\n",
    "        guess = ctable.decode(preds[0], calc_argmax=False)\n",
    "        print('Q', q[::-1] if REVERSE else q, end=' ')\n",
    "        print('T', correct, end=' ')\n",
    "        if correct == guess:\n",
    "            print(colors.ok + '☑' + colors.close, end=' ')\n",
    "        else:\n",
    "            print(colors.fail + '☒' + colors.close, end=' ')\n",
    "        print(guess)\n",
    "        \n",
    "for iteration in range(100):\n",
    "    print()\n",
    "    print('-' * 50)\n",
    "    print('Iteration', iteration)\n",
    "    model.fit(x_train, y_train,\n",
    "              batch_size=BATCH_SIZE,\n",
    "              epochs=1,\n",
    "              validation_data=(x_val, y_val))\n",
    "    if iteration == 0:\n",
    "        first_ten()\n",
    "    pred = model.predict(test_x)\n",
    "    correct = 0\n",
    "    for i in range(20000):\n",
    "        if ctable.decode(pred[i]) == decode_y[i]:\n",
    "            correct += 1\n",
    "    acc = round(correct/20000, 3)\n",
    "    print('Accuracy on Testing Data:',acc)\n",
    "    epoch_prediction.append(acc)\n",
    "    if acc >= 0.9:\n",
    "        first_ten()\n",
    "        break"
   ]
  },
  {
   "cell_type": "code",
   "execution_count": null,
   "metadata": {},
   "outputs": [],
   "source": [
    "with open('output/mix.csv', 'w', newline='') as csvfile:\n",
    "    writer = csv.writer(csvfile)\n",
    "    writer.writerow(epoch_prediction)"
   ]
  },
  {
   "cell_type": "markdown",
   "metadata": {},
   "source": [
    "# Testing"
   ]
  },
  {
   "cell_type": "code",
   "execution_count": null,
   "metadata": {},
   "outputs": [],
   "source": [
    "print(\"MSG : Prediction\")\n",
    "cost = model.evaluate(test_x, test_y, batch_size=40)\n",
    "print(\"test cost: {}\".format(cost))\n",
    "pred = model.predict(test_x) "
   ]
  },
  {
   "cell_type": "code",
   "execution_count": null,
   "metadata": {},
   "outputs": [],
   "source": [
    "print('First 10 testing data:')\n",
    "print('Prediction\\tAnswer')\n",
    "for i in range(10):\n",
    "    print(ctable.decode(pred[i]), end='\\t\\t')\n",
    "    print(ctable.decode(test_y[i]))\n",
    "\n",
    "print('-'*30)\n",
    "correct = 0\n",
    "for i in range(20000):\n",
    "    if ctable.decode(pred[i]) == ctable.decode(test_y[i]):\n",
    "        correct += 1\n",
    "print('Prediction Accuracy: {:.3f}'.format(correct/20000))"
   ]
  },
  {
   "cell_type": "markdown",
   "metadata": {},
   "source": [
    "Plot the 'Addition', 'Subtraction' and 'Mix add and sub' together, we can see that \"Subtraction\" and \"Mix\" lines are almost the same."
   ]
  },
  {
   "cell_type": "code",
   "execution_count": 3,
   "metadata": {},
   "outputs": [
    {
     "data": {
      "image/png": "[encoded data removed]",
      "text/plain": [
       "<Figure size 432x288 with 1 Axes>"
      ]
     },
     "metadata": {
      "needs_background": "light"
     },
     "output_type": "display_data"
    }
   ],
   "source": [
    "with open('output/sub_pred.csv', newline='') as csvfile:\n",
    "    rows = csv.reader(csvfile)\n",
    "    for row in rows:\n",
    "         sub = [float(j) for j in row]\n",
    "with open('output/ex1.csv', newline='') as csvfile:\n",
    "    rows = csv.reader(csvfile)\n",
    "    for row in rows:\n",
    "         add = [float(j) for j in row]\n",
    "with open('output/mix.csv', newline='') as csvfile:\n",
    "    rows = csv.reader(csvfile)\n",
    "    for row in rows:\n",
    "         mix = [float(j) for j in row]\n",
    "    axes = plt.gca()\n",
    "    axes.set_xlim([0,65])\n",
    "    axes.set_ylim([0,1])\n",
    "    plt.plot(add, label=\"Addition\")\n",
    "    plt.plot(sub, label=\"Subtraction\")\n",
    "    plt.plot(mix, label=\"Mix\")\n",
    "    plt.legend(loc=\"lower right\")\n",
    "    plt.xlabel('Epochs')\n",
    "    plt.ylabel('Accuracy')\n",
    "    plt.grid()\n",
    "    plt.show()"
   ]
  },
  {
   "cell_type": "markdown",
   "metadata": {},
   "source": [
    "## Reference\n",
    "\n",
    "[從零開始的 Sequence to Sequence](http://zake7749.github.io/2017/09/28/Sequence-to-Sequence-tutorial/)<br>\n",
    "[如何在長短期記憶(LSTM)網絡中利用TimeDistributed層——python語言](https://kknews.cc/zh-tw/tech/y62kj5k.html)<br>\n",
    "[如何為LSTM重新構建輸入資料（Keras）](http://toments.com/179540/)<br>\n",
    "[Understanding Input and Output shapes in LSTM | Keras](https://medium.com/@shivajbd/understanding-input-and-output-shape-in-lstm-keras-c501ee95c65e)<br>\n",
    "[利用Keras建構LSTM模型，以Stock Prediction 為例 1](https://medium.com/@daniel820710/%E5%88%A9%E7%94%A8keras%E5%BB%BA%E6%A7%8Blstm%E6%A8%A1%E5%9E%8B-%E4%BB%A5stock-prediction-%E7%82%BA%E4%BE%8B-1-67456e0a0b)<br>\n",
    "[A ten-minute introduction to sequence-to-sequence learning in Keras](https://blog.keras.io/a-ten-minute-introduction-to-sequence-to-sequence-learning-in-keras.html)<br>\n",
    "[addition_rnn.py | Github](https://github.com/keras-team/keras/blob/master/examples/addition_rnn.py)<br>\n",
    "[Many to one and many to many LSTM examples in Keras](https://stackoverflow.com/questions/43034960/many-to-one-and-many-to-many-lstm-examples-in-keras)<br>\n",
    "[使用 Keras 实现简单的 Sequence to Sequence 模型](http://www.zmonster.me/2016/05/29/sequence_to_sequence_with_keras.html)<br>"
   ]
  }
 ],
 "metadata": {
  "kernelspec": {
   "display_name": "Python 3",
   "language": "python",
   "name": "python3"
  },
  "language_info": {
   "codemirror_mode": {
    "name": "ipython",
    "version": 3
   },
   "file_extension": ".py",
   "mimetype": "text/x-python",
   "name": "python",
   "nbconvert_exporter": "python",
   "pygments_lexer": "ipython3",
   "version": "3.6.7"
  }
 },
 "nbformat": 4,
 "nbformat_minor": 2
}
