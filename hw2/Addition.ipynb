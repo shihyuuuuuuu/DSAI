{
 "cells": [
  {
   "cell_type": "code",
   "execution_count": 2,
   "metadata": {
    "scrolled": true
   },
   "outputs": [
    {
     "name": "stderr",
     "output_type": "stream",
     "text": [
      "Using TensorFlow backend.\n"
     ]
    }
   ],
   "source": [
    "%matplotlib inline\n",
    "from keras.models import Sequential\n",
    "from keras import layers\n",
    "import numpy as np\n",
    "from six.moves import range\n",
    "import matplotlib.pyplot as plt\n",
    "import csv"
   ]
  },
  {
   "cell_type": "markdown",
   "metadata": {},
   "source": [
    "# Parameters Config"
   ]
  },
  {
   "cell_type": "code",
   "execution_count": 2,
   "metadata": {},
   "outputs": [],
   "source": [
    "class colors:\n",
    "    ok = '\\033[92m'\n",
    "    fail = '\\033[91m'\n",
    "    close = '\\033[0m'"
   ]
  },
  {
   "cell_type": "code",
   "execution_count": 3,
   "metadata": {},
   "outputs": [],
   "source": [
    "TRAINING_SIZE = 80000\n",
    "DIGITS = 3\n",
    "REVERSE = False\n",
    "MAXLEN = DIGITS + 1 + DIGITS\n",
    "chars = '0123456789+ '\n",
    "RNN = layers.LSTM\n",
    "HIDDEN_SIZE = 128\n",
    "BATCH_SIZE = 128\n",
    "LAYERS = 1"
   ]
  },
  {
   "cell_type": "code",
   "execution_count": 4,
   "metadata": {},
   "outputs": [],
   "source": [
    "class CharacterTable(object):\n",
    "    def __init__(self, chars):\n",
    "        self.chars = sorted(set(chars)) # [' ', '+', '0', '1', '2', '3', '4', '5', '6', '7', '8', '9']\n",
    "        self.char_indices = dict((c, i) for i, c in enumerate(self.chars)) # {' ': 0, '+': 1, '0': 2, ... , '9': 11}\n",
    "        self.indices_char = dict((i, c) for i, c in enumerate(self.chars)) # {0: ' ', 1: '+', 2: '0',..., 11: '9'}\n",
    "    \n",
    "    def encode(self, C, num_rows):\n",
    "        x = np.zeros((num_rows, len(self.chars)))\n",
    "        for i, c in enumerate(C):\n",
    "            x[i, self.char_indices[c]] = 1\n",
    "        return x\n",
    "    \n",
    "    def decode(self, x, calc_argmax=True):\n",
    "        if calc_argmax:\n",
    "            x = x.argmax(axis=-1)\n",
    "        return \"\".join(self.indices_char[i] for i in x)"
   ]
  },
  {
   "cell_type": "code",
   "execution_count": 5,
   "metadata": {},
   "outputs": [],
   "source": [
    "ctable = CharacterTable(chars)"
   ]
  },
  {
   "cell_type": "code",
   "execution_count": 6,
   "metadata": {},
   "outputs": [
    {
     "data": {
      "text/plain": [
       "{0: ' ',\n",
       " 1: '+',\n",
       " 2: '0',\n",
       " 3: '1',\n",
       " 4: '2',\n",
       " 5: '3',\n",
       " 6: '4',\n",
       " 7: '5',\n",
       " 8: '6',\n",
       " 9: '7',\n",
       " 10: '8',\n",
       " 11: '9'}"
      ]
     },
     "execution_count": 6,
     "metadata": {},
     "output_type": "execute_result"
    }
   ],
   "source": [
    "ctable.indices_char"
   ]
  },
  {
   "cell_type": "markdown",
   "metadata": {},
   "source": [
    "# Data Generation"
   ]
  },
  {
   "cell_type": "code",
   "execution_count": 7,
   "metadata": {},
   "outputs": [
    {
     "name": "stdout",
     "output_type": "stream",
     "text": [
      "Generating data...\n",
      "Total addition questions: 80000\n"
     ]
    }
   ],
   "source": [
    "questions = []\n",
    "expected = []\n",
    "seen = set()\n",
    "print('Generating data...')\n",
    "while len(questions) < TRAINING_SIZE:\n",
    "    # f函數：隨機產生一個1位數到3位數之間的整數（DIGIT==3）\n",
    "    f = lambda: int(''.join(np.random.choice(list('0123456789')) for i in range(np.random.randint(1, DIGITS + 1))))\n",
    "    a, b = f(), f()\n",
    "    key = tuple(sorted((a, b))) # 將a, b由小到大排序並轉成tuple\n",
    "    if key in seen:\n",
    "        continue\n",
    "    seen.add(key)\n",
    "    q = '{}+{}'.format(a, b)\n",
    "    query = q + ' ' * (MAXLEN - len(q)) # 將query長度補足到7，MAXLEN最長等於7(當DIGIT等於3)\n",
    "    ans = str(a + b)\n",
    "    ans += ' ' * (DIGITS + 1 - len(ans)) # 將ans長度補足到4，兩三位數相加最多是四位數\n",
    "    if REVERSE:\n",
    "        query = query[::-1]\n",
    "    questions.append(query)\n",
    "    expected.append(ans)\n",
    "print('Total addition questions:', len(questions))"
   ]
  },
  {
   "cell_type": "code",
   "execution_count": 8,
   "metadata": {},
   "outputs": [
    {
     "name": "stdout",
     "output_type": "stream",
     "text": [
      "['0+980  ', '0+562  ', '605+81 ', '13+588 ', '73+40  '] ['980 ', '562 ', '686 ', '601 ', '113 ']\n",
      "80000\n"
     ]
    }
   ],
   "source": [
    "print(questions[:5], expected[:5])\n",
    "print(len(questions))"
   ]
  },
  {
   "cell_type": "markdown",
   "metadata": {},
   "source": [
    "# Processing"
   ]
  },
  {
   "cell_type": "code",
   "execution_count": 9,
   "metadata": {},
   "outputs": [
    {
     "name": "stdout",
     "output_type": "stream",
     "text": [
      "Vectorization...\n"
     ]
    }
   ],
   "source": [
    "print('Vectorization...')\n",
    "# x總共有80000筆資料，每筆資料shape是7x12，7代表問題長度為7，並且每個位數的值有12種可能\n",
    "x = np.zeros((len(questions), MAXLEN, len(chars)), dtype=np.bool) # x.shape = (80000, 7, 12)\n",
    "y = np.zeros((len(expected), DIGITS + 1, len(chars)), dtype=np.bool) # y.shape = (80000, 4, 12)\n",
    "\n",
    "# 將問題與解答編碼成一個一個的二維陣列\n",
    "for i, sentence in enumerate(questions):\n",
    "    x[i] = ctable.encode(sentence, MAXLEN)\n",
    "for i, sentence in enumerate(expected):\n",
    "    y[i] = ctable.encode(sentence, DIGITS + 1)"
   ]
  },
  {
   "cell_type": "code",
   "execution_count": 10,
   "metadata": {
    "scrolled": true
   },
   "outputs": [
    {
     "name": "stdout",
     "output_type": "stream",
     "text": [
      "Training Data:\n",
      "(54000, 7, 12)\n",
      "(54000, 4, 12)\n",
      "Validation Data:\n",
      "(6000, 7, 12)\n",
      "(6000, 4, 12)\n",
      "Testing Data:\n",
      "(20000, 7, 12)\n",
      "(20000, 4, 12)\n"
     ]
    }
   ],
   "source": [
    "# 將80000筆資料打亂順序\n",
    "indices = np.arange(len(y))\n",
    "np.random.shuffle(indices)\n",
    "x = x[indices]\n",
    "y = y[indices]\n",
    "\n",
    "# train_test_split\n",
    "train_x = x[:60000]\n",
    "train_y = y[:60000]\n",
    "test_x = x[60000:]\n",
    "test_y = y[60000:]\n",
    "\n",
    "split_at = len(train_x) - len(train_x) // 10\n",
    "(x_train, x_val) = train_x[:split_at], train_x[split_at:]\n",
    "(y_train, y_val) = train_y[:split_at], train_y[split_at:]\n",
    "\n",
    "print('Training Data:')\n",
    "print(x_train.shape)\n",
    "print(y_train.shape)\n",
    "\n",
    "print('Validation Data:')\n",
    "print(x_val.shape)\n",
    "print(y_val.shape)\n",
    "\n",
    "print('Testing Data:')\n",
    "print(test_x.shape)\n",
    "print(test_y.shape)"
   ]
  },
  {
   "cell_type": "code",
   "execution_count": 11,
   "metadata": {},
   "outputs": [],
   "source": [
    "#print(\"input: \", x_train[:3], '\\n\\n', \"label: \", y_train[:3])"
   ]
  },
  {
   "cell_type": "markdown",
   "metadata": {},
   "source": [
    "# Build Model\n",
    "\n",
    "[keras中TimeDistributed和RepeatVector的解释](https://blog.csdn.net/ChaoFeiLi/article/details/89323078)"
   ]
  },
  {
   "cell_type": "code",
   "execution_count": 12,
   "metadata": {},
   "outputs": [],
   "source": [
    "def buildModel(shape):\n",
    "    model = Sequential()\n",
    "    model.add(layers.LSTM(128, input_shape=(shape[1], shape[2])))\n",
    "    model.add(layers.RepeatVector(DIGITS + 1))\n",
    "    model.add(layers.LSTM(64, return_sequences=True))\n",
    "    model.add(layers.LSTM(64, return_sequences=True))\n",
    "    model.add(layers.TimeDistributed(layers.Dense(len(chars), activation='softmax')))\n",
    "    #model.add(layers.Lambda(lambda x: x[:, 3:, :]))\n",
    "    model.compile(loss=\"categorical_crossentropy\", optimizer=\"adam\", metrics=['accuracy'])\n",
    "    model.summary()\n",
    "    return model"
   ]
  },
  {
   "cell_type": "code",
   "execution_count": 13,
   "metadata": {
    "scrolled": true
   },
   "outputs": [
    {
     "name": "stdout",
     "output_type": "stream",
     "text": [
      "Build model...\n",
      "WARNING:tensorflow:From /home/shihyu/.local/lib/python3.6/site-packages/tensorflow/python/framework/op_def_library.py:263: colocate_with (from tensorflow.python.framework.ops) is deprecated and will be removed in a future version.\n",
      "Instructions for updating:\n",
      "Colocations handled automatically by placer.\n",
      "_________________________________________________________________\n",
      "Layer (type)                 Output Shape              Param #   \n",
      "=================================================================\n",
      "lstm_1 (LSTM)                (None, 128)               72192     \n",
      "_________________________________________________________________\n",
      "repeat_vector_1 (RepeatVecto (None, 4, 128)            0         \n",
      "_________________________________________________________________\n",
      "lstm_2 (LSTM)                (None, 4, 64)             49408     \n",
      "_________________________________________________________________\n",
      "lstm_3 (LSTM)                (None, 4, 64)             33024     \n",
      "_________________________________________________________________\n",
      "time_distributed_1 (TimeDist (None, 4, 12)             780       \n",
      "=================================================================\n",
      "Total params: 155,404\n",
      "Trainable params: 155,404\n",
      "Non-trainable params: 0\n",
      "_________________________________________________________________\n"
     ]
    }
   ],
   "source": [
    "print('Build model...')\n",
    "model = buildModel(x_train.shape)"
   ]
  },
  {
   "cell_type": "markdown",
   "metadata": {},
   "source": [
    "# Training"
   ]
  },
  {
   "cell_type": "code",
   "execution_count": 14,
   "metadata": {},
   "outputs": [],
   "source": [
    "decode_y = []\n",
    "for i in range(20000):\n",
    "    decode_y.append(ctable.decode(test_y[i]))"
   ]
  },
  {
   "cell_type": "code",
   "execution_count": 15,
   "metadata": {},
   "outputs": [
    {
     "name": "stdout",
     "output_type": "stream",
     "text": [
      "\n",
      "--------------------------------------------------\n",
      "Iteration 0\n",
      "WARNING:tensorflow:From /home/shihyu/.local/lib/python3.6/site-packages/tensorflow/python/ops/math_ops.py:3066: to_int32 (from tensorflow.python.ops.math_ops) is deprecated and will be removed in a future version.\n",
      "Instructions for updating:\n",
      "Use tf.cast instead.\n",
      "Train on 54000 samples, validate on 6000 samples\n",
      "Epoch 1/1\n",
      "54000/54000 [==============================] - 42s 782us/step - loss: 1.9253 - acc: 0.3104 - val_loss: 1.8201 - val_acc: 0.3394\n",
      "Q 71+801  T 872  \u001b[91m☒\u001b[0m 103 \n",
      "Q 33+617  T 650  \u001b[91m☒\u001b[0m 103 \n",
      "Q 300+765 T 1065 \u001b[91m☒\u001b[0m 1108\n",
      "Q 48+751  T 799  \u001b[91m☒\u001b[0m 103 \n",
      "Q 479+943 T 1422 \u001b[91m☒\u001b[0m 1108\n",
      "Q 0+445   T 445  \u001b[91m☒\u001b[0m 13  \n",
      "Q 93+748  T 841  \u001b[91m☒\u001b[0m 103 \n",
      "Q 493+4   T 497  \u001b[91m☒\u001b[0m 133 \n",
      "Q 2+892   T 894  \u001b[91m☒\u001b[0m 133 \n",
      "Q 377+37  T 414  \u001b[91m☒\u001b[0m 103 \n",
      "Accuracy on Testing Data: 0.001\n",
      "\n",
      "--------------------------------------------------\n",
      "Iteration 1\n",
      "Train on 54000 samples, validate on 6000 samples\n",
      "Epoch 1/1\n",
      "54000/54000 [==============================] - 36s 664us/step - loss: 1.7606 - acc: 0.3364 - val_loss: 1.7099 - val_acc: 0.3546\n",
      "Accuracy on Testing Data: 0.001\n",
      "\n",
      "--------------------------------------------------\n",
      "Iteration 2\n",
      "Train on 54000 samples, validate on 6000 samples\n",
      "Epoch 1/1\n",
      "54000/54000 [==============================] - 36s 658us/step - loss: 1.6519 - acc: 0.3758 - val_loss: 1.5826 - val_acc: 0.3983\n",
      "Accuracy on Testing Data: 0.004\n",
      "\n",
      "--------------------------------------------------\n",
      "Iteration 3\n",
      "Train on 54000 samples, validate on 6000 samples\n",
      "Epoch 1/1\n",
      "54000/54000 [==============================] - 36s 672us/step - loss: 1.5173 - acc: 0.4232 - val_loss: 1.4498 - val_acc: 0.4601\n",
      "Accuracy on Testing Data: 0.006\n",
      "\n",
      "--------------------------------------------------\n",
      "Iteration 4\n",
      "Train on 54000 samples, validate on 6000 samples\n",
      "Epoch 1/1\n",
      "54000/54000 [==============================] - 36s 663us/step - loss: 1.4013 - acc: 0.4761 - val_loss: 1.3582 - val_acc: 0.5015\n",
      "Accuracy on Testing Data: 0.008\n",
      "\n",
      "--------------------------------------------------\n",
      "Iteration 5\n",
      "Train on 54000 samples, validate on 6000 samples\n",
      "Epoch 1/1\n",
      "54000/54000 [==============================] - 37s 685us/step - loss: 1.3290 - acc: 0.5035 - val_loss: 1.3069 - val_acc: 0.5099\n",
      "Accuracy on Testing Data: 0.01\n",
      "\n",
      "--------------------------------------------------\n",
      "Iteration 6\n",
      "Train on 54000 samples, validate on 6000 samples\n",
      "Epoch 1/1\n",
      "54000/54000 [==============================] - 42s 770us/step - loss: 1.2765 - acc: 0.5214 - val_loss: 1.2501 - val_acc: 0.5297\n",
      "Accuracy on Testing Data: 0.012\n",
      "\n",
      "--------------------------------------------------\n",
      "Iteration 7\n",
      "Train on 54000 samples, validate on 6000 samples\n",
      "Epoch 1/1\n",
      "54000/54000 [==============================] - 42s 778us/step - loss: 1.2370 - acc: 0.5332 - val_loss: 1.2333 - val_acc: 0.5370\n",
      "Accuracy on Testing Data: 0.014\n",
      "\n",
      "--------------------------------------------------\n",
      "Iteration 8\n",
      "Train on 54000 samples, validate on 6000 samples\n",
      "Epoch 1/1\n",
      "54000/54000 [==============================] - 41s 758us/step - loss: 1.1991 - acc: 0.5471 - val_loss: 1.1969 - val_acc: 0.5447\n",
      "Accuracy on Testing Data: 0.018\n",
      "\n",
      "--------------------------------------------------\n",
      "Iteration 9\n",
      "Train on 54000 samples, validate on 6000 samples\n",
      "Epoch 1/1\n",
      "54000/54000 [==============================] - 42s 769us/step - loss: 1.1602 - acc: 0.5606 - val_loss: 1.1340 - val_acc: 0.5697\n",
      "Accuracy on Testing Data: 0.027\n",
      "\n",
      "--------------------------------------------------\n",
      "Iteration 10\n",
      "Train on 54000 samples, validate on 6000 samples\n",
      "Epoch 1/1\n",
      "54000/54000 [==============================] - 42s 769us/step - loss: 1.1018 - acc: 0.5814 - val_loss: 1.0597 - val_acc: 0.5971\n",
      "Accuracy on Testing Data: 0.034\n",
      "\n",
      "--------------------------------------------------\n",
      "Iteration 11\n",
      "Train on 54000 samples, validate on 6000 samples\n",
      "Epoch 1/1\n",
      "54000/54000 [==============================] - 49s 909us/step - loss: 1.0274 - acc: 0.6052 - val_loss: 0.9782 - val_acc: 0.6247\n",
      "Accuracy on Testing Data: 0.043\n",
      "\n",
      "--------------------------------------------------\n",
      "Iteration 12\n",
      "Train on 54000 samples, validate on 6000 samples\n",
      "Epoch 1/1\n",
      "54000/54000 [==============================] - 42s 774us/step - loss: 0.9338 - acc: 0.6418 - val_loss: 0.8796 - val_acc: 0.6694\n",
      "Accuracy on Testing Data: 0.058\n",
      "\n",
      "--------------------------------------------------\n",
      "Iteration 13\n",
      "Train on 54000 samples, validate on 6000 samples\n",
      "Epoch 1/1\n",
      "54000/54000 [==============================] - 41s 751us/step - loss: 0.8497 - acc: 0.6824 - val_loss: 0.8278 - val_acc: 0.6865\n",
      "Accuracy on Testing Data: 0.06\n",
      "\n",
      "--------------------------------------------------\n",
      "Iteration 14\n",
      "Train on 54000 samples, validate on 6000 samples\n",
      "Epoch 1/1\n",
      "54000/54000 [==============================] - 41s 754us/step - loss: 0.7949 - acc: 0.7071 - val_loss: 0.7692 - val_acc: 0.7177\n",
      "Accuracy on Testing Data: 0.071\n",
      "\n",
      "--------------------------------------------------\n",
      "Iteration 15\n",
      "Train on 54000 samples, validate on 6000 samples\n",
      "Epoch 1/1\n",
      "54000/54000 [==============================] - 42s 785us/step - loss: 0.7546 - acc: 0.7227 - val_loss: 0.7488 - val_acc: 0.7215\n",
      "Accuracy on Testing Data: 0.08\n",
      "\n",
      "--------------------------------------------------\n",
      "Iteration 16\n",
      "Train on 54000 samples, validate on 6000 samples\n",
      "Epoch 1/1\n",
      "54000/54000 [==============================] - 46s 844us/step - loss: 0.7275 - acc: 0.7308 - val_loss: 0.7447 - val_acc: 0.7188\n",
      "Accuracy on Testing Data: 0.087\n",
      "\n",
      "--------------------------------------------------\n",
      "Iteration 17\n",
      "Train on 54000 samples, validate on 6000 samples\n",
      "Epoch 1/1\n",
      "54000/54000 [==============================] - 54s 1ms/step - loss: 0.7047 - acc: 0.7389 - val_loss: 0.7016 - val_acc: 0.7372\n",
      "Accuracy on Testing Data: 0.095\n",
      "\n",
      "--------------------------------------------------\n",
      "Iteration 18\n",
      "Train on 54000 samples, validate on 6000 samples\n",
      "Epoch 1/1\n",
      "54000/54000 [==============================] - 49s 914us/step - loss: 0.6782 - acc: 0.7482 - val_loss: 0.6618 - val_acc: 0.7520\n",
      "Accuracy on Testing Data: 0.137\n",
      "\n",
      "--------------------------------------------------\n",
      "Iteration 19\n",
      "Train on 54000 samples, validate on 6000 samples\n",
      "Epoch 1/1\n",
      "54000/54000 [==============================] - 53s 982us/step - loss: 0.5608 - acc: 0.7906 - val_loss: 0.4281 - val_acc: 0.8438\n",
      "Accuracy on Testing Data: 0.434\n",
      "\n",
      "--------------------------------------------------\n",
      "Iteration 20\n",
      "Train on 54000 samples, validate on 6000 samples\n",
      "Epoch 1/1\n",
      "54000/54000 [==============================] - 46s 844us/step - loss: 0.3124 - acc: 0.9023 - val_loss: 0.2146 - val_acc: 0.9535\n",
      "Accuracy on Testing Data: 0.834\n",
      "\n",
      "--------------------------------------------------\n",
      "Iteration 21\n",
      "Train on 54000 samples, validate on 6000 samples\n",
      "Epoch 1/1\n",
      "54000/54000 [==============================] - 46s 856us/step - loss: 0.1741 - acc: 0.9627 - val_loss: 0.1313 - val_acc: 0.9743\n",
      "Accuracy on Testing Data: 0.903\n",
      "\n",
      "--------------------------------------------------\n",
      "Iteration 22\n",
      "Train on 54000 samples, validate on 6000 samples\n",
      "Epoch 1/1\n",
      "54000/54000 [==============================] - 46s 849us/step - loss: 0.1120 - acc: 0.9783 - val_loss: 0.1067 - val_acc: 0.9748\n",
      "Accuracy on Testing Data: 0.915\n",
      "\n",
      "--------------------------------------------------\n",
      "Iteration 23\n",
      "Train on 54000 samples, validate on 6000 samples\n",
      "Epoch 1/1\n",
      "54000/54000 [==============================] - 46s 847us/step - loss: 0.0821 - acc: 0.9841 - val_loss: 0.0682 - val_acc: 0.9873\n",
      "Accuracy on Testing Data: 0.954\n",
      "Q 828+552 T 1380 \u001b[92m☑\u001b[0m 1380\n",
      "Q 349+82  T 431  \u001b[92m☑\u001b[0m 431 \n",
      "Q 331+94  T 425  \u001b[92m☑\u001b[0m 425 \n",
      "Q 770+407 T 1177 \u001b[92m☑\u001b[0m 1177\n",
      "Q 22+206  T 228  \u001b[92m☑\u001b[0m 228 \n",
      "Q 70+138  T 208  \u001b[92m☑\u001b[0m 208 \n",
      "Q 54+359  T 413  \u001b[92m☑\u001b[0m 413 \n",
      "Q 745+3   T 748  \u001b[92m☑\u001b[0m 748 \n",
      "Q 857+205 T 1062 \u001b[91m☒\u001b[0m 1072\n",
      "Q 954+478 T 1432 \u001b[92m☑\u001b[0m 1432\n"
     ]
    }
   ],
   "source": [
    "epoch_prediction = []\n",
    "def first_ten():\n",
    "    for i in range(10):\n",
    "        ind = np.random.randint(0, len(x_val))\n",
    "        rowx, rowy = x_val[np.array([ind])], y_val[np.array([ind])]\n",
    "        preds = model.predict_classes(rowx, verbose=0)\n",
    "        q = ctable.decode(rowx[0])\n",
    "        correct = ctable.decode(rowy[0])\n",
    "        guess = ctable.decode(preds[0], calc_argmax=False)\n",
    "        print('Q', q[::-1] if REVERSE else q, end=' ')\n",
    "        print('T', correct, end=' ')\n",
    "        if correct == guess:\n",
    "            print(colors.ok + '☑' + colors.close, end=' ')\n",
    "        else:\n",
    "            print(colors.fail + '☒' + colors.close, end=' ')\n",
    "        print(guess)\n",
    "        \n",
    "for iteration in range(100):\n",
    "    print()\n",
    "    print('-' * 50)\n",
    "    print('Iteration', iteration)\n",
    "    model.fit(x_train, y_train,\n",
    "              batch_size=BATCH_SIZE,\n",
    "              epochs=1,\n",
    "              validation_data=(x_val, y_val))\n",
    "    if iteration == 0:\n",
    "        first_ten()\n",
    "    pred = model.predict(test_x)\n",
    "    correct = 0\n",
    "    for i in range(20000):\n",
    "        if ctable.decode(pred[i]) == decode_y[i]:\n",
    "            correct += 1\n",
    "    acc = round(correct/20000, 3)\n",
    "    print('Accuracy on Testing Data:',acc)\n",
    "    epoch_prediction.append(acc)\n",
    "    if acc >= 0.95:\n",
    "        first_ten()\n",
    "        break"
   ]
  },
  {
   "cell_type": "code",
   "execution_count": 16,
   "metadata": {},
   "outputs": [],
   "source": [
    "with open('output/ex1.csv', 'w', newline='') as csvfile:\n",
    "    writer = csv.writer(csvfile)\n",
    "    writer.writerow(epoch_prediction)"
   ]
  },
  {
   "cell_type": "markdown",
   "metadata": {},
   "source": [
    "# Testing"
   ]
  },
  {
   "cell_type": "code",
   "execution_count": 17,
   "metadata": {},
   "outputs": [
    {
     "name": "stdout",
     "output_type": "stream",
     "text": [
      "MSG : Prediction\n",
      "20000/20000 [==============================] - 8s 388us/step\n",
      "test cost: [0.06851156693696976, 0.9878249961137772]\n"
     ]
    }
   ],
   "source": [
    "print(\"MSG : Prediction\")\n",
    "cost = model.evaluate(test_x, test_y, batch_size=40)\n",
    "print(\"test cost: {}\".format(cost))\n",
    "pred = model.predict(test_x)"
   ]
  },
  {
   "cell_type": "code",
   "execution_count": 18,
   "metadata": {
    "scrolled": true
   },
   "outputs": [
    {
     "name": "stdout",
     "output_type": "stream",
     "text": [
      "First 10 testing data:\n",
      "Prediction\tAnswer\n",
      "742 \t\t742 \n",
      "462 \t\t462 \n",
      "803 \t\t803 \n",
      "619 \t\t619 \n",
      "893 \t\t893 \n",
      "326 \t\t326 \n",
      "163 \t\t163 \n",
      "70  \t\t80  \n",
      "1774\t\t1774\n",
      "1256\t\t1256\n",
      "------------------------------\n",
      "Prediction Accuracy: 0.954\n"
     ]
    }
   ],
   "source": [
    "print('First 10 testing data:')\n",
    "print('Prediction\\tAnswer')\n",
    "for i in range(10):\n",
    "    print(ctable.decode(pred[i]), end='\\t\\t')\n",
    "    print(ctable.decode(test_y[i]))\n",
    "\n",
    "print('-'*30)\n",
    "correct = 0\n",
    "for i in range(20000):\n",
    "    if ctable.decode(pred[i]) == ctable.decode(test_y[i]):\n",
    "        correct += 1\n",
    "print('Prediction Accuracy: {:.3f}'.format(correct/20000))"
   ]
  },
  {
   "cell_type": "markdown",
   "metadata": {},
   "source": [
    "# Conclusion\n",
    "## Compare different digits(Exp1, Exp2)\n",
    "### Experiment 1:\n",
    "- Training data: 54000\n",
    "- Validation data: 6000\n",
    "- Testing data: 20000\n",
    "- **digit: 3**\n",
    "\n",
    "Result: At epoch 23, reach testing data accuracy = 0.954"
   ]
  },
  {
   "cell_type": "code",
   "execution_count": 3,
   "metadata": {},
   "outputs": [
    {
     "data": {
      "image/png": "[encoded data removed]",
      "text/plain": [
       "<Figure size 432x288 with 1 Axes>"
      ]
     },
     "metadata": {
      "needs_background": "light"
     },
     "output_type": "display_data"
    }
   ],
   "source": [
    "with open('output/ex1.csv', newline='') as csvfile:\n",
    "    rows = csv.reader(csvfile)\n",
    "    for row in rows:\n",
    "         row = [float(j) for j in row]\n",
    "    axes = plt.gca()\n",
    "    axes.set_xlim([0,27])\n",
    "    axes.set_ylim([0,1])\n",
    "    plt.plot(row)\n",
    "    plt.xlabel('Epochs')\n",
    "    plt.ylabel('Accuracy')\n",
    "    plt.grid()\n",
    "    plt.show()"
   ]
  },
  {
   "cell_type": "markdown",
   "metadata": {},
   "source": [
    "### Experiment 2:\n",
    "- Training data: 54000\n",
    "- Validation data: 6000\n",
    "- Testing data: 20000\n",
    "- **digit: 4**\n",
    "\n",
    "Result: At epoch 99, reach testing data accuracy = 0.91"
   ]
  },
  {
   "cell_type": "code",
   "execution_count": 20,
   "metadata": {
    "scrolled": false
   },
   "outputs": [
    {
     "data": {
      "image/png": "[encoded data removed]",
      "text/plain": [
       "<Figure size 432x288 with 1 Axes>"
      ]
     },
     "metadata": {
      "needs_background": "light"
     },
     "output_type": "display_data"
    }
   ],
   "source": [
    "with open('output/ex2.csv', newline='') as csvfile:\n",
    "    rows = csv.reader(csvfile)\n",
    "    for row in rows:\n",
    "        row = [float(i) for i in row]\n",
    "    axes = plt.gca()\n",
    "    axes.set_xlim([0,100])\n",
    "    axes.set_ylim([0,1])\n",
    "    plt.xlabel('Epochs')\n",
    "    plt.ylabel('Accuracy')\n",
    "    plt.plot(row)\n",
    "    plt.grid()\n",
    "    plt.show()"
   ]
  },
  {
   "cell_type": "markdown",
   "metadata": {},
   "source": [
    "**Summary: 4-digit data takes more epochs to train**"
   ]
  },
  {
   "cell_type": "markdown",
   "metadata": {},
   "source": [
    "## Compare different training / testing split(Exp3, Exp4)\n",
    "### Experiment 3:\n",
    "Training : Testing = 1 : 1\n",
    "- Training data: 36000\n",
    "- Validation data: 4000\n",
    "- Testing data: 40000\n",
    "- Digit: 3\n",
    "\n",
    "Result: At epoch 34, reach testing data accuracy = 0.935\n",
    "\n",
    "### Experiment 4:\n",
    "Training : Testing = 1 : 3\n",
    "- Training data: 18000\n",
    "- Validation data: 2000\n",
    "- Testing data: 60000\n",
    "- Digit: 3\n",
    "\n",
    "Result: At epoch 78, reach testing data accuracy = 0.933\n",
    "\n",
    "**When training/testing proportion is smaller, it takes more epochs to reach the same accuracy.**"
   ]
  },
  {
   "cell_type": "code",
   "execution_count": 21,
   "metadata": {
    "scrolled": true
   },
   "outputs": [
    {
     "data": {
      "image/png": "[encoded data removed]",
      "text/plain": [
       "<Figure size 432x288 with 1 Axes>"
      ]
     },
     "metadata": {
      "needs_background": "light"
     },
     "output_type": "display_data"
    }
   ],
   "source": [
    "with open('output/ex1.csv', newline='') as csvfile:\n",
    "    rows = csv.reader(csvfile)\n",
    "    for row in rows:\n",
    "         row1 = [float(j) for j in row]\n",
    "with open('output/ex3.csv', newline='') as csvfile:\n",
    "    rows = csv.reader(csvfile)\n",
    "    for row in rows:\n",
    "        row3 = [float(i) for i in row]\n",
    "with open('output/ex4.csv', newline='') as csvfile:\n",
    "    rows = csv.reader(csvfile)\n",
    "    for row in rows:\n",
    "        row4 = [float(i) for i in row]\n",
    "\n",
    "axes = plt.gca()\n",
    "axes.set_xlim([0,100])\n",
    "axes.set_ylim([0,1])\n",
    "axes.axhline(y=0.9, color='black', linewidth=0.8)\n",
    "plt.xlabel('Epochs')\n",
    "plt.ylabel('Accuracy')\n",
    "plt.plot(row1, label='Exp1')\n",
    "plt.plot(row3, label='Exp3')\n",
    "plt.plot(row4, label='Exp4')\n",
    "plt.grid()\n",
    "plt.legend()\n",
    "plt.show()"
   ]
  },
  {
   "cell_type": "markdown",
   "metadata": {},
   "source": [
    "We can see from the above chart that in the 3-digit training, the accuracy always **increases from about 0.1 to 0.9 in no more than 10 epochs**.<br>\n",
    "So I think if I make it start from a better weights and biases, or using some other methods, maybe the training epochs can decrease."
   ]
  },
  {
   "cell_type": "markdown",
   "metadata": {},
   "source": [
    "## Reference\n",
    "\n",
    "[從零開始的 Sequence to Sequence](http://zake7749.github.io/2017/09/28/Sequence-to-Sequence-tutorial/)<br>\n",
    "[如何在長短期記憶(LSTM)網絡中利用TimeDistributed層——python語言](https://kknews.cc/zh-tw/tech/y62kj5k.html)<br>\n",
    "[如何為LSTM重新構建輸入資料（Keras）](http://toments.com/179540/)<br>\n",
    "[Understanding Input and Output shapes in LSTM | Keras](https://medium.com/@shivajbd/understanding-input-and-output-shape-in-lstm-keras-c501ee95c65e)<br>\n",
    "[利用Keras建構LSTM模型，以Stock Prediction 為例 1](https://medium.com/@daniel820710/%E5%88%A9%E7%94%A8keras%E5%BB%BA%E6%A7%8Blstm%E6%A8%A1%E5%9E%8B-%E4%BB%A5stock-prediction-%E7%82%BA%E4%BE%8B-1-67456e0a0b)<br>\n",
    "[A ten-minute introduction to sequence-to-sequence learning in Keras](https://blog.keras.io/a-ten-minute-introduction-to-sequence-to-sequence-learning-in-keras.html)<br>\n",
    "[addition_rnn.py | Github](https://github.com/keras-team/keras/blob/master/examples/addition_rnn.py)<br>\n",
    "[Many to one and many to many LSTM examples in Keras](https://stackoverflow.com/questions/43034960/many-to-one-and-many-to-many-lstm-examples-in-keras)<br>\n",
    "[使用 Keras 实现简单的 Sequence to Sequence 模型](http://www.zmonster.me/2016/05/29/sequence_to_sequence_with_keras.html)<br>"
   ]
  }
 ],
 "metadata": {
  "kernelspec": {
   "display_name": "Python 3",
   "language": "python",
   "name": "python3"
  },
  "language_info": {
   "codemirror_mode": {
    "name": "ipython",
    "version": 3
   },
   "file_extension": ".py",
   "mimetype": "text/x-python",
   "name": "python",
   "nbconvert_exporter": "python",
   "pygments_lexer": "ipython3",
   "version": "3.6.7"
  }
 },
 "nbformat": 4,
 "nbformat_minor": 1
}
